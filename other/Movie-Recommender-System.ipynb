{
 "cells": [
  {
   "cell_type": "code",
   "execution_count": 2,
   "id": "245250b6",
   "metadata": {},
   "outputs": [],
   "source": [
    "import numpy as np\n",
    "import pandas as pd"
   ]
  },
  {
   "cell_type": "code",
   "execution_count": 63,
   "id": "134059d6",
   "metadata": {},
   "outputs": [],
   "source": [
    "movies = pd.read_json('mainData.json')"
   ]
  },
  {
   "cell_type": "code",
   "execution_count": 64,
   "id": "1817a185",
   "metadata": {},
   "outputs": [],
   "source": [
    "movies = movies[['imdbID','Type','Title','Rated','Genre','Director','Writer','Plot','Language','Country','Awards']]"
   ]
  },
  {
   "cell_type": "code",
   "execution_count": 65,
   "id": "f55b95c7",
   "metadata": {},
   "outputs": [
    {
     "data": {
      "text/html": [
       "<div>\n",
       "<style scoped>\n",
       "    .dataframe tbody tr th:only-of-type {\n",
       "        vertical-align: middle;\n",
       "    }\n",
       "\n",
       "    .dataframe tbody tr th {\n",
       "        vertical-align: top;\n",
       "    }\n",
       "\n",
       "    .dataframe thead th {\n",
       "        text-align: right;\n",
       "    }\n",
       "</style>\n",
       "<table border=\"1\" class=\"dataframe\">\n",
       "  <thead>\n",
       "    <tr style=\"text-align: right;\">\n",
       "      <th></th>\n",
       "      <th>imdbID</th>\n",
       "      <th>Type</th>\n",
       "      <th>Title</th>\n",
       "      <th>Rated</th>\n",
       "      <th>Genre</th>\n",
       "      <th>Director</th>\n",
       "      <th>Writer</th>\n",
       "      <th>Plot</th>\n",
       "      <th>Language</th>\n",
       "      <th>Country</th>\n",
       "      <th>Awards</th>\n",
       "    </tr>\n",
       "  </thead>\n",
       "  <tbody>\n",
       "    <tr>\n",
       "      <th>0</th>\n",
       "      <td>tt0111161</td>\n",
       "      <td>movie</td>\n",
       "      <td>The Shawshank Redemption</td>\n",
       "      <td>R</td>\n",
       "      <td>Drama</td>\n",
       "      <td>Frank Darabont</td>\n",
       "      <td>Stephen King, Frank Darabont</td>\n",
       "      <td>Over the course of several years, two convicts...</td>\n",
       "      <td>English</td>\n",
       "      <td>United States</td>\n",
       "      <td>Nominated for 7 Oscars. 21 wins &amp; 42 nominatio...</td>\n",
       "    </tr>\n",
       "    <tr>\n",
       "      <th>1</th>\n",
       "      <td>tt0068646</td>\n",
       "      <td>movie</td>\n",
       "      <td>The Godfather</td>\n",
       "      <td>R</td>\n",
       "      <td>Crime, Drama</td>\n",
       "      <td>Francis Ford Coppola</td>\n",
       "      <td>Mario Puzo, Francis Ford Coppola</td>\n",
       "      <td>Don Vito Corleone, head of a mafia family, dec...</td>\n",
       "      <td>English, Italian, Latin</td>\n",
       "      <td>United States</td>\n",
       "      <td>Won 3 Oscars. 30 wins &amp; 31 nominations total</td>\n",
       "    </tr>\n",
       "    <tr>\n",
       "      <th>2</th>\n",
       "      <td>tt0468569</td>\n",
       "      <td>movie</td>\n",
       "      <td>The Dark Knight</td>\n",
       "      <td>PG-13</td>\n",
       "      <td>Action, Crime, Drama</td>\n",
       "      <td>Christopher Nolan</td>\n",
       "      <td>Jonathan Nolan, Christopher Nolan, David S. Goyer</td>\n",
       "      <td>When the menace known as the Joker wreaks havo...</td>\n",
       "      <td>English, Mandarin</td>\n",
       "      <td>United States, United Kingdom</td>\n",
       "      <td>Won 2 Oscars. 162 wins &amp; 164 nominations total</td>\n",
       "    </tr>\n",
       "    <tr>\n",
       "      <th>3</th>\n",
       "      <td>tt0071562</td>\n",
       "      <td>movie</td>\n",
       "      <td>The Godfather Part II</td>\n",
       "      <td>R</td>\n",
       "      <td>Crime, Drama</td>\n",
       "      <td>Francis Ford Coppola</td>\n",
       "      <td>Francis Ford Coppola, Mario Puzo</td>\n",
       "      <td>The early life and career of Vito Corleone in ...</td>\n",
       "      <td>English, Italian, Spanish, Latin, Sicilian</td>\n",
       "      <td>United States</td>\n",
       "      <td>Won 6 Oscars. 17 wins &amp; 21 nominations total</td>\n",
       "    </tr>\n",
       "    <tr>\n",
       "      <th>4</th>\n",
       "      <td>tt0050083</td>\n",
       "      <td>movie</td>\n",
       "      <td>12 Angry Men</td>\n",
       "      <td>Approved</td>\n",
       "      <td>Crime, Drama</td>\n",
       "      <td>Sidney Lumet</td>\n",
       "      <td>Reginald Rose</td>\n",
       "      <td>The jury in a New York City murder trial is fr...</td>\n",
       "      <td>English</td>\n",
       "      <td>United States</td>\n",
       "      <td>Nominated for 3 Oscars. 16 wins &amp; 12 nominatio...</td>\n",
       "    </tr>\n",
       "  </tbody>\n",
       "</table>\n",
       "</div>"
      ],
      "text/plain": [
       "      imdbID   Type                     Title     Rated                 Genre  \\\n",
       "0  tt0111161  movie  The Shawshank Redemption         R                 Drama   \n",
       "1  tt0068646  movie             The Godfather         R          Crime, Drama   \n",
       "2  tt0468569  movie           The Dark Knight     PG-13  Action, Crime, Drama   \n",
       "3  tt0071562  movie     The Godfather Part II         R          Crime, Drama   \n",
       "4  tt0050083  movie              12 Angry Men  Approved          Crime, Drama   \n",
       "\n",
       "               Director                                             Writer  \\\n",
       "0        Frank Darabont                       Stephen King, Frank Darabont   \n",
       "1  Francis Ford Coppola                   Mario Puzo, Francis Ford Coppola   \n",
       "2     Christopher Nolan  Jonathan Nolan, Christopher Nolan, David S. Goyer   \n",
       "3  Francis Ford Coppola                   Francis Ford Coppola, Mario Puzo   \n",
       "4          Sidney Lumet                                      Reginald Rose   \n",
       "\n",
       "                                                Plot  \\\n",
       "0  Over the course of several years, two convicts...   \n",
       "1  Don Vito Corleone, head of a mafia family, dec...   \n",
       "2  When the menace known as the Joker wreaks havo...   \n",
       "3  The early life and career of Vito Corleone in ...   \n",
       "4  The jury in a New York City murder trial is fr...   \n",
       "\n",
       "                                     Language                        Country  \\\n",
       "0                                     English                  United States   \n",
       "1                     English, Italian, Latin                  United States   \n",
       "2                           English, Mandarin  United States, United Kingdom   \n",
       "3  English, Italian, Spanish, Latin, Sicilian                  United States   \n",
       "4                                     English                  United States   \n",
       "\n",
       "                                              Awards  \n",
       "0  Nominated for 7 Oscars. 21 wins & 42 nominatio...  \n",
       "1       Won 3 Oscars. 30 wins & 31 nominations total  \n",
       "2     Won 2 Oscars. 162 wins & 164 nominations total  \n",
       "3       Won 6 Oscars. 17 wins & 21 nominations total  \n",
       "4  Nominated for 3 Oscars. 16 wins & 12 nominatio...  "
      ]
     },
     "execution_count": 65,
     "metadata": {},
     "output_type": "execute_result"
    }
   ],
   "source": [
    "movies.head()"
   ]
  },
  {
   "cell_type": "code",
   "execution_count": 66,
   "id": "d33e7c71",
   "metadata": {},
   "outputs": [
    {
     "data": {
      "text/plain": [
       "imdbID      0\n",
       "Type        0\n",
       "Title       0\n",
       "Rated       0\n",
       "Genre       0\n",
       "Director    0\n",
       "Writer      0\n",
       "Plot        0\n",
       "Language    0\n",
       "Country     0\n",
       "Awards      0\n",
       "dtype: int64"
      ]
     },
     "execution_count": 66,
     "metadata": {},
     "output_type": "execute_result"
    }
   ],
   "source": [
    "movies.isnull().sum()"
   ]
  },
  {
   "cell_type": "code",
   "execution_count": 67,
   "id": "04689e9e",
   "metadata": {},
   "outputs": [],
   "source": [
    "movies.drop_duplicates(inplace=True)"
   ]
  },
  {
   "cell_type": "code",
   "execution_count": 68,
   "id": "3dfd7d1f",
   "metadata": {},
   "outputs": [
    {
     "data": {
      "text/plain": [
       "0"
      ]
     },
     "execution_count": 68,
     "metadata": {},
     "output_type": "execute_result"
    }
   ],
   "source": [
    "movies.duplicated().sum()"
   ]
  },
  {
   "cell_type": "code",
   "execution_count": 69,
   "id": "1af43e47",
   "metadata": {},
   "outputs": [],
   "source": [
    "def convert(data):\n",
    "    sampl = data.split(\",\")\n",
    "    return sampl"
   ]
  },
  {
   "cell_type": "code",
   "execution_count": 70,
   "id": "9ec8b903",
   "metadata": {},
   "outputs": [],
   "source": [
    "movies['Genre'] = movies['Genre'].apply(convert)"
   ]
  },
  {
   "cell_type": "code",
   "execution_count": 71,
   "id": "599e9a81",
   "metadata": {},
   "outputs": [],
   "source": [
    "movies['Rated'] = movies['Rated'].apply(convert)"
   ]
  },
  {
   "cell_type": "code",
   "execution_count": 72,
   "id": "691c8d0d",
   "metadata": {},
   "outputs": [],
   "source": [
    "movies['Director'] = movies['Director'].apply(convert)"
   ]
  },
  {
   "cell_type": "code",
   "execution_count": 73,
   "id": "43dfa58a",
   "metadata": {},
   "outputs": [],
   "source": [
    "movies['Writer'] = movies['Writer'].apply(convert)"
   ]
  },
  {
   "cell_type": "code",
   "execution_count": 74,
   "id": "d81c9fec",
   "metadata": {},
   "outputs": [],
   "source": [
    "movies['Language'] = movies['Language'].apply(convert)"
   ]
  },
  {
   "cell_type": "code",
   "execution_count": 75,
   "id": "46d3ad4c",
   "metadata": {},
   "outputs": [],
   "source": [
    "movies['Country'] = movies['Country'].apply(convert)"
   ]
  },
  {
   "cell_type": "code",
   "execution_count": 76,
   "id": "186c1c6c",
   "metadata": {},
   "outputs": [],
   "source": [
    "movies['Plot'] = movies['Plot'].apply(lambda x:x.split())"
   ]
  },
  {
   "cell_type": "code",
   "execution_count": 77,
   "id": "f076a452",
   "metadata": {},
   "outputs": [],
   "source": [
    "movies['Awards'] = movies['Awards'].apply(lambda x:x.split('&'))"
   ]
  },
  {
   "cell_type": "code",
   "execution_count": 78,
   "id": "82417dad",
   "metadata": {
    "scrolled": true
   },
   "outputs": [
    {
     "data": {
      "text/html": [
       "<div>\n",
       "<style scoped>\n",
       "    .dataframe tbody tr th:only-of-type {\n",
       "        vertical-align: middle;\n",
       "    }\n",
       "\n",
       "    .dataframe tbody tr th {\n",
       "        vertical-align: top;\n",
       "    }\n",
       "\n",
       "    .dataframe thead th {\n",
       "        text-align: right;\n",
       "    }\n",
       "</style>\n",
       "<table border=\"1\" class=\"dataframe\">\n",
       "  <thead>\n",
       "    <tr style=\"text-align: right;\">\n",
       "      <th></th>\n",
       "      <th>imdbID</th>\n",
       "      <th>Type</th>\n",
       "      <th>Title</th>\n",
       "      <th>Rated</th>\n",
       "      <th>Genre</th>\n",
       "      <th>Director</th>\n",
       "      <th>Writer</th>\n",
       "      <th>Plot</th>\n",
       "      <th>Language</th>\n",
       "      <th>Country</th>\n",
       "      <th>Awards</th>\n",
       "    </tr>\n",
       "  </thead>\n",
       "  <tbody>\n",
       "    <tr>\n",
       "      <th>0</th>\n",
       "      <td>tt0111161</td>\n",
       "      <td>movie</td>\n",
       "      <td>The Shawshank Redemption</td>\n",
       "      <td>[R]</td>\n",
       "      <td>[Drama]</td>\n",
       "      <td>[Frank Darabont]</td>\n",
       "      <td>[Stephen King,  Frank Darabont]</td>\n",
       "      <td>[Over, the, course, of, several, years,, two, ...</td>\n",
       "      <td>[English]</td>\n",
       "      <td>[United States]</td>\n",
       "      <td>[Nominated for 7 Oscars. 21 wins ,  42 nominat...</td>\n",
       "    </tr>\n",
       "    <tr>\n",
       "      <th>1</th>\n",
       "      <td>tt0068646</td>\n",
       "      <td>movie</td>\n",
       "      <td>The Godfather</td>\n",
       "      <td>[R]</td>\n",
       "      <td>[Crime,  Drama]</td>\n",
       "      <td>[Francis Ford Coppola]</td>\n",
       "      <td>[Mario Puzo,  Francis Ford Coppola]</td>\n",
       "      <td>[Don, Vito, Corleone,, head, of, a, mafia, fam...</td>\n",
       "      <td>[English,  Italian,  Latin]</td>\n",
       "      <td>[United States]</td>\n",
       "      <td>[Won 3 Oscars. 30 wins ,  31 nominations total]</td>\n",
       "    </tr>\n",
       "    <tr>\n",
       "      <th>2</th>\n",
       "      <td>tt0468569</td>\n",
       "      <td>movie</td>\n",
       "      <td>The Dark Knight</td>\n",
       "      <td>[PG-13]</td>\n",
       "      <td>[Action,  Crime,  Drama]</td>\n",
       "      <td>[Christopher Nolan]</td>\n",
       "      <td>[Jonathan Nolan,  Christopher Nolan,  David S....</td>\n",
       "      <td>[When, the, menace, known, as, the, Joker, wre...</td>\n",
       "      <td>[English,  Mandarin]</td>\n",
       "      <td>[United States,  United Kingdom]</td>\n",
       "      <td>[Won 2 Oscars. 162 wins ,  164 nominations total]</td>\n",
       "    </tr>\n",
       "    <tr>\n",
       "      <th>3</th>\n",
       "      <td>tt0071562</td>\n",
       "      <td>movie</td>\n",
       "      <td>The Godfather Part II</td>\n",
       "      <td>[R]</td>\n",
       "      <td>[Crime,  Drama]</td>\n",
       "      <td>[Francis Ford Coppola]</td>\n",
       "      <td>[Francis Ford Coppola,  Mario Puzo]</td>\n",
       "      <td>[The, early, life, and, career, of, Vito, Corl...</td>\n",
       "      <td>[English,  Italian,  Spanish,  Latin,  Sicilian]</td>\n",
       "      <td>[United States]</td>\n",
       "      <td>[Won 6 Oscars. 17 wins ,  21 nominations total]</td>\n",
       "    </tr>\n",
       "    <tr>\n",
       "      <th>4</th>\n",
       "      <td>tt0050083</td>\n",
       "      <td>movie</td>\n",
       "      <td>12 Angry Men</td>\n",
       "      <td>[Approved]</td>\n",
       "      <td>[Crime,  Drama]</td>\n",
       "      <td>[Sidney Lumet]</td>\n",
       "      <td>[Reginald Rose]</td>\n",
       "      <td>[The, jury, in, a, New, York, City, murder, tr...</td>\n",
       "      <td>[English]</td>\n",
       "      <td>[United States]</td>\n",
       "      <td>[Nominated for 3 Oscars. 16 wins ,  12 nominat...</td>\n",
       "    </tr>\n",
       "  </tbody>\n",
       "</table>\n",
       "</div>"
      ],
      "text/plain": [
       "      imdbID   Type                     Title       Rated  \\\n",
       "0  tt0111161  movie  The Shawshank Redemption         [R]   \n",
       "1  tt0068646  movie             The Godfather         [R]   \n",
       "2  tt0468569  movie           The Dark Knight     [PG-13]   \n",
       "3  tt0071562  movie     The Godfather Part II         [R]   \n",
       "4  tt0050083  movie              12 Angry Men  [Approved]   \n",
       "\n",
       "                      Genre                Director  \\\n",
       "0                   [Drama]        [Frank Darabont]   \n",
       "1           [Crime,  Drama]  [Francis Ford Coppola]   \n",
       "2  [Action,  Crime,  Drama]     [Christopher Nolan]   \n",
       "3           [Crime,  Drama]  [Francis Ford Coppola]   \n",
       "4           [Crime,  Drama]          [Sidney Lumet]   \n",
       "\n",
       "                                              Writer  \\\n",
       "0                    [Stephen King,  Frank Darabont]   \n",
       "1                [Mario Puzo,  Francis Ford Coppola]   \n",
       "2  [Jonathan Nolan,  Christopher Nolan,  David S....   \n",
       "3                [Francis Ford Coppola,  Mario Puzo]   \n",
       "4                                    [Reginald Rose]   \n",
       "\n",
       "                                                Plot  \\\n",
       "0  [Over, the, course, of, several, years,, two, ...   \n",
       "1  [Don, Vito, Corleone,, head, of, a, mafia, fam...   \n",
       "2  [When, the, menace, known, as, the, Joker, wre...   \n",
       "3  [The, early, life, and, career, of, Vito, Corl...   \n",
       "4  [The, jury, in, a, New, York, City, murder, tr...   \n",
       "\n",
       "                                           Language  \\\n",
       "0                                         [English]   \n",
       "1                       [English,  Italian,  Latin]   \n",
       "2                              [English,  Mandarin]   \n",
       "3  [English,  Italian,  Spanish,  Latin,  Sicilian]   \n",
       "4                                         [English]   \n",
       "\n",
       "                            Country  \\\n",
       "0                   [United States]   \n",
       "1                   [United States]   \n",
       "2  [United States,  United Kingdom]   \n",
       "3                   [United States]   \n",
       "4                   [United States]   \n",
       "\n",
       "                                              Awards  \n",
       "0  [Nominated for 7 Oscars. 21 wins ,  42 nominat...  \n",
       "1    [Won 3 Oscars. 30 wins ,  31 nominations total]  \n",
       "2  [Won 2 Oscars. 162 wins ,  164 nominations total]  \n",
       "3    [Won 6 Oscars. 17 wins ,  21 nominations total]  \n",
       "4  [Nominated for 3 Oscars. 16 wins ,  12 nominat...  "
      ]
     },
     "execution_count": 78,
     "metadata": {},
     "output_type": "execute_result"
    }
   ],
   "source": [
    "movies.head()"
   ]
  },
  {
   "cell_type": "code",
   "execution_count": 80,
   "id": "fe74cd45",
   "metadata": {},
   "outputs": [],
   "source": [
    "movies['Genre'] = movies['Genre'].apply(lambda x:[i.replace(\" \",\"\") for i in x])\n",
    "movies['Director'] = movies['Director'].apply(lambda x:[i.replace(\" \",\"\") for i in x])\n",
    "movies['Writer'] = movies['Writer'].apply(lambda x:[i.replace(\" \",\"\") for i in x])\n",
    "movies['Country'] = movies['Country'].apply(lambda x:[i.replace(\" \",\"\") for i in x])\n",
    "movies['Awards'] = movies['Awards'].apply(lambda x:[i.replace(\" \",\"\") for i in x])\n",
    "movies['Type'] = movies['Type'].apply(convert)"
   ]
  },
  {
   "cell_type": "code",
   "execution_count": 84,
   "id": "e8bc2ce4",
   "metadata": {},
   "outputs": [],
   "source": [
    "movies['Tags'] = movies['Type'] + movies['Rated'] + movies['Genre'] + movies['Director'] + movies['Writer'] + movies['Plot'] + movies['Language'] + movies['Country'] + movies['Awards']"
   ]
  },
  {
   "cell_type": "code",
   "execution_count": 85,
   "id": "4e2d2b1f",
   "metadata": {},
   "outputs": [],
   "source": [
    "new_movies = movies[['imdbID','Title','Tags']]"
   ]
  },
  {
   "cell_type": "code",
   "execution_count": 88,
   "id": "f4ea13ad",
   "metadata": {},
   "outputs": [
    {
     "name": "stderr",
     "output_type": "stream",
     "text": [
      "C:\\Users\\Asus\\AppData\\Local\\Temp\\ipykernel_2312\\1853070033.py:1: SettingWithCopyWarning: \n",
      "A value is trying to be set on a copy of a slice from a DataFrame.\n",
      "Try using .loc[row_indexer,col_indexer] = value instead\n",
      "\n",
      "See the caveats in the documentation: https://pandas.pydata.org/pandas-docs/stable/user_guide/indexing.html#returning-a-view-versus-a-copy\n",
      "  new_movies['Tags'] = new_movies['Tags'].apply(lambda x:\" \".join(x))\n"
     ]
    }
   ],
   "source": [
    "new_movies['Tags'] = new_movies['Tags'].apply(lambda x:\" \".join(x))"
   ]
  },
  {
   "cell_type": "code",
   "execution_count": 91,
   "id": "7e3c2343",
   "metadata": {},
   "outputs": [
    {
     "name": "stderr",
     "output_type": "stream",
     "text": [
      "C:\\Users\\Asus\\AppData\\Local\\Temp\\ipykernel_2312\\3255978379.py:1: SettingWithCopyWarning: \n",
      "A value is trying to be set on a copy of a slice from a DataFrame.\n",
      "Try using .loc[row_indexer,col_indexer] = value instead\n",
      "\n",
      "See the caveats in the documentation: https://pandas.pydata.org/pandas-docs/stable/user_guide/indexing.html#returning-a-view-versus-a-copy\n",
      "  new_movies['Tags'] = new_movies['Tags'].apply(lambda x:x.lower())\n"
     ]
    }
   ],
   "source": [
    "new_movies['Tags'] = new_movies['Tags'].apply(lambda x:x.lower())"
   ]
  },
  {
   "cell_type": "code",
   "execution_count": 92,
   "id": "ee3e9594",
   "metadata": {},
   "outputs": [
    {
     "data": {
      "text/html": [
       "<div>\n",
       "<style scoped>\n",
       "    .dataframe tbody tr th:only-of-type {\n",
       "        vertical-align: middle;\n",
       "    }\n",
       "\n",
       "    .dataframe tbody tr th {\n",
       "        vertical-align: top;\n",
       "    }\n",
       "\n",
       "    .dataframe thead th {\n",
       "        text-align: right;\n",
       "    }\n",
       "</style>\n",
       "<table border=\"1\" class=\"dataframe\">\n",
       "  <thead>\n",
       "    <tr style=\"text-align: right;\">\n",
       "      <th></th>\n",
       "      <th>imdbID</th>\n",
       "      <th>Title</th>\n",
       "      <th>Tags</th>\n",
       "    </tr>\n",
       "  </thead>\n",
       "  <tbody>\n",
       "    <tr>\n",
       "      <th>0</th>\n",
       "      <td>tt0111161</td>\n",
       "      <td>The Shawshank Redemption</td>\n",
       "      <td>movie r drama frankdarabont stephenking frankd...</td>\n",
       "    </tr>\n",
       "    <tr>\n",
       "      <th>1</th>\n",
       "      <td>tt0068646</td>\n",
       "      <td>The Godfather</td>\n",
       "      <td>movie r crime drama francisfordcoppola mariopu...</td>\n",
       "    </tr>\n",
       "    <tr>\n",
       "      <th>2</th>\n",
       "      <td>tt0468569</td>\n",
       "      <td>The Dark Knight</td>\n",
       "      <td>movie pg-13 action crime drama christophernola...</td>\n",
       "    </tr>\n",
       "    <tr>\n",
       "      <th>3</th>\n",
       "      <td>tt0071562</td>\n",
       "      <td>The Godfather Part II</td>\n",
       "      <td>movie r crime drama francisfordcoppola francis...</td>\n",
       "    </tr>\n",
       "    <tr>\n",
       "      <th>4</th>\n",
       "      <td>tt0050083</td>\n",
       "      <td>12 Angry Men</td>\n",
       "      <td>movie approved crime drama sidneylumet reginal...</td>\n",
       "    </tr>\n",
       "  </tbody>\n",
       "</table>\n",
       "</div>"
      ],
      "text/plain": [
       "      imdbID                     Title  \\\n",
       "0  tt0111161  The Shawshank Redemption   \n",
       "1  tt0068646             The Godfather   \n",
       "2  tt0468569           The Dark Knight   \n",
       "3  tt0071562     The Godfather Part II   \n",
       "4  tt0050083              12 Angry Men   \n",
       "\n",
       "                                                Tags  \n",
       "0  movie r drama frankdarabont stephenking frankd...  \n",
       "1  movie r crime drama francisfordcoppola mariopu...  \n",
       "2  movie pg-13 action crime drama christophernola...  \n",
       "3  movie r crime drama francisfordcoppola francis...  \n",
       "4  movie approved crime drama sidneylumet reginal...  "
      ]
     },
     "execution_count": 92,
     "metadata": {},
     "output_type": "execute_result"
    }
   ],
   "source": [
    "new_movies.head()"
   ]
  },
  {
   "cell_type": "code",
   "execution_count": 109,
   "id": "8e942824",
   "metadata": {},
   "outputs": [],
   "source": [
    "import nltk\n",
    "from nltk.stem.porter import PorterStemmer\n",
    "ps = PorterStemmer()"
   ]
  },
  {
   "cell_type": "code",
   "execution_count": 110,
   "id": "78f8f7de",
   "metadata": {},
   "outputs": [],
   "source": [
    "def stem(text):\n",
    "    y = []\n",
    "    for i in text.split():\n",
    "        y.append(ps.stem(i))\n",
    "    return \" \".join(y)"
   ]
  },
  {
   "cell_type": "code",
   "execution_count": 112,
   "id": "f6720191",
   "metadata": {},
   "outputs": [
    {
     "name": "stderr",
     "output_type": "stream",
     "text": [
      "C:\\Users\\Asus\\AppData\\Local\\Temp\\ipykernel_2312\\3310099983.py:1: SettingWithCopyWarning: \n",
      "A value is trying to be set on a copy of a slice from a DataFrame.\n",
      "Try using .loc[row_indexer,col_indexer] = value instead\n",
      "\n",
      "See the caveats in the documentation: https://pandas.pydata.org/pandas-docs/stable/user_guide/indexing.html#returning-a-view-versus-a-copy\n",
      "  new_movies['Tags'] = new_movies['Tags'].apply(stem)\n"
     ]
    }
   ],
   "source": [
    "new_movies['Tags'] = new_movies['Tags'].apply(stem)"
   ]
  },
  {
   "cell_type": "code",
   "execution_count": 113,
   "id": "538cd4a3",
   "metadata": {},
   "outputs": [],
   "source": [
    "from sklearn.feature_extraction.text import CountVectorizer\n",
    "cv = CountVectorizer(max_features=900,stop_words='english')"
   ]
  },
  {
   "cell_type": "code",
   "execution_count": 114,
   "id": "39761b33",
   "metadata": {},
   "outputs": [],
   "source": [
    "vectors = cv.fit_transform(new_movies['Tags']).toarray()"
   ]
  },
  {
   "cell_type": "code",
   "execution_count": 115,
   "id": "7f9a1a20",
   "metadata": {},
   "outputs": [
    {
     "data": {
      "text/plain": [
       "array(['000', '103nominationstot', '10nomin', '10nominationstot', '10win',\n",
       "       '11nomin', '11nominationstot', '11win', '12nominationstot',\n",
       "       '12win', '13', '133nominationstot', '13nomin', '13nominationstot',\n",
       "       '13win', '14', '14nominationstot', '14win', '15nomin',\n",
       "       '15nominationstot', '15win', '16nomin', '16nominationstot',\n",
       "       '16win', '17nomin', '17nominationstot', '17win', '18nomin',\n",
       "       '18nominationstot', '18win', '1920', '1930', '19nominationstot',\n",
       "       '19win', '1nomin', '1win', '20nomin', '20nominationstot', '20win',\n",
       "       '21nomin', '21nominationstot', '21win', '22nomin',\n",
       "       '22nominationstot', '22win', '23nominationstot', '23win', '24',\n",
       "       '24nomin', '24nominationstot', '24win', '25nomin',\n",
       "       '25nominationstot', '25win', '26nomin', '26nominationstot',\n",
       "       '26win', '27nominationstot', '27win', '28win', '29nomin', '29win',\n",
       "       '2nomin', '2nominationstot', '2win', '30win', '31nominationstot',\n",
       "       '32nominationstot', '33win', '34win', '37nominationstot', '37win',\n",
       "       '38nomin', '38nominationstot', '38win', '39nominationstot',\n",
       "       '3nomin', '3nominationstot', '3win', '41nominationstot',\n",
       "       '42nominationstot', '44win', '45win', '46nominationstot', '49win',\n",
       "       '4nomin', '4nominationstot', '4win', '55nominationstot', '56win',\n",
       "       '58nominationstot', '58win', '5nomin', '5nominationstot', '5win',\n",
       "       '63nominationstot', '6nomin', '6nominationstot', '6win',\n",
       "       '74nominationstot', '7nomin', '7nominationstot', '7win',\n",
       "       '81nominationstot', '8nomin', '8nominationstot', '8win', '9nomin',\n",
       "       '9nominationstot', '9win', 'aaronsorkin', 'accident', 'accus',\n",
       "       'act', 'action', 'adventur', 'affair', 'african', 'age', 'agent',\n",
       "       'agre', 'aid', 'akirakurosawa', 'alcohol', 'alejandrog',\n",
       "       'alfonsocuarón', 'alfredhitchcock', 'alien', 'alli', 'america',\n",
       "       'american', 'ancient', 'andreitarkovski', 'andrewniccol',\n",
       "       'andrewstanton', 'angel', 'angeles', 'anim', 'anoth', 'apart',\n",
       "       'appear', 'approv', 'arab', 'armi', 'arriv', 'artist', 'ask',\n",
       "       'aspir', 'assassin', 'assembl', 'astronaut', 'attack', 'attempt',\n",
       "       'australia', 'austria', 'author', 'away', 'band', 'bank', 'base',\n",
       "       'battl', 'beauti', 'becom', 'befor', 'befriend', 'begin',\n",
       "       'belgium', 'belov', 'benaffleck', 'benhecht', 'berlin', 'best',\n",
       "       'better', 'big', 'billywild', 'biographi', 'black', 'boat',\n",
       "       'bobgal', 'bond', 'book', 'born', 'boss', 'boston', 'boxer', 'boy',\n",
       "       'boyfriend', 'bradbird', 'break', 'bring', 'british', 'broadway',\n",
       "       'brother', 'brutal', 'build', 'california', 'canada', 'cancer',\n",
       "       'cantones', 'captain', 'captiv', 'captur', 'car', 'care', 'career',\n",
       "       'case', 'casino', 'cathol', 'caught', 'caus', 'center', 'central',\n",
       "       'centuri', 'challeng', 'champion', 'chanc', 'chang', 'charl',\n",
       "       'charleschaplin', 'charliekaufman', 'child', 'childhood',\n",
       "       'children', 'china', 'chines', 'christma', 'christophernolan',\n",
       "       'chronicl', 'cia', 'citi', 'city', 'civil', 'claim', 'class',\n",
       "       'classic', 'clinteastwood', 'colleg', 'come', 'comedi', 'commit',\n",
       "       'commun', 'complic', 'conflict', 'confront', 'connect', 'convict',\n",
       "       'convinc', 'cop', 'corrupt', 'countri', 'country', 'coupl',\n",
       "       'couple', 'cours', 'court', 'crash', 'creat', 'crew', 'crime',\n",
       "       'crimin', 'cross', 'cultur', 'czechrepubl', 'daili', 'danger',\n",
       "       'dare', 'dark', 'daughter', 'davidfinch', 'davidlean',\n",
       "       'davidlynch', 'davids', 'day', 'dead', 'deadli', 'deal', 'death',\n",
       "       'decad', 'decid', 'defend', 'denisvilleneuv', 'denmark', 'desper',\n",
       "       'despit', 'destroy', 'detect', 'determin', 'develop', 'die',\n",
       "       'differ', 'direct', 'director', 'disappear', 'discov', 'divorc',\n",
       "       'doctor', 'documentari', 'doesn', 'dog', 'domin', 'doom', 'dr',\n",
       "       'dragon', 'drama', 'dream', 'driver', 'drug', 'dure', 'dutch',\n",
       "       'earli', 'earth', 'east', 'edgarwright', 'effort', 'embark',\n",
       "       'emot', 'empir', 'encount', 'end', 'enemi', 'engin', 'england',\n",
       "       'english', 'enlist', 'ensu', 'enter', 'epic', 'era', 'escap',\n",
       "       'estrang', 'ethancoen', 'event', 'everi', 'evil', 'ex', 'execut',\n",
       "       'experi', 'expos', 'face', 'fade', 'fail', 'fall', 'fame',\n",
       "       'famili', 'family', 'famou', 'fantasi', 'farm', 'fate', 'father',\n",
       "       'fbi', 'fear', 'federicofellini', 'feel', 'fellow', 'femal', 'fi',\n",
       "       'fight', 'film', 'final', 'follow', 'forc', 'form', 'franc',\n",
       "       'francisco', 'francisfordcoppola', 'frank', 'franwalsh',\n",
       "       'fredzinnemann', 'free', 'french', 'friend', 'friendship',\n",
       "       'frustrat', 'fulfil', 'futur', 'future', 'gaelic', 'game', 'gang',\n",
       "       'gangster', 'gener', 'georg', 'georgeluca', 'german', 'germani',\n",
       "       'ghost', 'gift', 'girl', 'girlfriend', 'goe', 'gold', 'govern',\n",
       "       'great', 'greek', 'group', 'grow', 'guyritchi', 'ha', 'hand',\n",
       "       'happen', 'harri', 'heart', 'hebrew', 'heist', 'help', 'henri',\n",
       "       'hero', 'hi', 'high', 'hindi', 'hire', 'histori', 'hollywood',\n",
       "       'home', 'hongkong', 'hope', 'horror', 'hotel', 'hous', 'housewif',\n",
       "       'howardhawk', 'human', 'hunt', 'husband', 'idea', 'ident', 'ii',\n",
       "       'ill', 'immigr', 'imprison', 'imtiazali', 'india', 'indian',\n",
       "       'insan', 'insid', 'inspir', 'insur', 'intellig', 'intens',\n",
       "       'investig', 'involv', 'ireland', 'irish', 'island', 'itali',\n",
       "       'italian', 'iñárritu', 'jack', 'jail', 'jame', 'jamescameron',\n",
       "       'jamesmangold', 'janegoldman', 'japan', 'japanes', 'jean',\n",
       "       'jewish', 'jimjarmusch', 'job', 'joelcoen', 'john', 'johnford',\n",
       "       'johnhugh', 'johnhuston', 'johnlasset', 'johnmusk', 'join',\n",
       "       'jonathannolan', 'journalist', 'journey', 'joy', 'just', 'kid',\n",
       "       'kidnap', 'kill', 'killer', 'kind', 'king', 'know', 'known',\n",
       "       'korean', 'la', 'land', 'larsvontri', 'later', 'latin', 'law',\n",
       "       'lawyer', 'lead', 'leader', 'learn', 'leav', 'led', 'leeunkrich',\n",
       "       'legendari', 'life', 'like', 'live', 'lo', 'local', 'london',\n",
       "       'long', 'look', 'lord', 'loss', 'lost', 'love', 'lover',\n",
       "       'lowellcunningham', 'lucbesson', 'ma', 'magic', 'make', 'man',\n",
       "       'mandarin', 'marin', 'marri', 'martinscorses', 'mathematician',\n",
       "       'matthewvaughn', 'mean', 'meet', 'member', 'memori', 'men',\n",
       "       'mexico', 'michael', 'michaelmann', 'middle', 'militari', 'miss',\n",
       "       'mission', 'mistaken', 'mob', 'modern', 'money', 'mother',\n",
       "       'mountain', 'movi', 'mr', 'mumbai', 'murder', 'murderer', 'music',\n",
       "       'musician', 'mutant', 'mysteri', 'nation', 'navig', 'nazi', 'need',\n",
       "       'neerajpandey', 'neighbor', 'netherland', 'new', 'newli',\n",
       "       'newzealand', 'night', 'noir', 'nominatedfor1oscar',\n",
       "       'nominatedfor2oscars', 'nominatedfor3oscars',\n",
       "       'nominatedfor4oscars', 'nominatedfor5oscars',\n",
       "       'nominatedfor6oscars', 'nominatedfor7oscars', 'north', 'norway',\n",
       "       'noth', 'notori', 'obsess', 'occupi', 'offic', 'officer', 'old',\n",
       "       'older', 'oliverston', 'onc', 'onli', 'oper', 'order', 'ordinari',\n",
       "       'orsonwel', 'outlaw', 'outsid', 'owner', 'pair', 'park', 'parti',\n",
       "       'partner', 'pass', 'past', 'patient', 'paul', 'paulhaggi',\n",
       "       'paulthomasanderson', 'peopl', 'people', 'persian', 'person',\n",
       "       'perspect', 'petedoct', 'peter', 'peterjackson', 'petermorgan',\n",
       "       'pg', 'philipkaufman', 'philippaboyen', 'physic', 'pianist',\n",
       "       'pilot', 'place', 'plan', 'planet', 'play', 'plot', 'point',\n",
       "       'polic', 'polish', 'portugues', 'possess', 'post', 'potenti',\n",
       "       'pow', 'power', 'powers', 'pregnant', 'present', 'princ',\n",
       "       'princess', 'prison', 'privat', 'process', 'profession', 'program',\n",
       "       'protect', 'prove', 'psychopath', 'pull', 'pursu', 'queen',\n",
       "       'quentintarantino', 'quest', 'question', 'quiet', 'race', 'raid',\n",
       "       'rais', 'rajkumarhirani', 'rape', 'rate', 'ray', 'real', 'realiz',\n",
       "       'receiv', 'reconcil', 'record', 'recruit', 'relationship',\n",
       "       'reluctantli', 'remain', 'remot', 'report', 'rescu', 'resist',\n",
       "       'respect', 'retir', 'return', 'reveal', 'rich', 'richard',\n",
       "       'richardlinklat', 'ridleyscott', 'right', 'ring', 'rise', 'rival',\n",
       "       'river', 'robertzemecki', 'robrein', 'rock', 'role', 'roman',\n",
       "       'romanc', 'romanian', 'romanpolanski', 'romant', 'romero', 'ron',\n",
       "       'ronclement', 'ronhoward', 'room', 'rowl', 'ruin', 'run', 'rural',\n",
       "       'russia', 'russian', 'ruthless', 'safe', 'salesman', 'sammend',\n",
       "       'samurai', 'san', 'save', 'scene', 'school', 'sci', 'scientist',\n",
       "       'search', 'secret', 'secur', 'seek', 'self', 'sent', 'seri',\n",
       "       'serv', 'set', 'seven', 'sever', 'sex', 'ship', 'shock', 'shop',\n",
       "       'short', 'sidneylumet', 'sign', 'simpl', 'sinc', 'singer', 'singh',\n",
       "       'singl', 'sister', 'small', 'societi', 'society', 'soldier', 'son',\n",
       "       'soon', 'south', 'space', 'spacecraft', 'spain', 'spanish',\n",
       "       'sparrow', 'special', 'spend', 'spi', 'spider', 'spikele',\n",
       "       'spirit', 'sport', 'stand', 'stanleykubrick', 'star', 'start',\n",
       "       'state', 'station', 'steal', 'stephenk', 'steveklov',\n",
       "       'stevenspielberg', 'stevenzaillian', 'stolen', 'stop', 'stori',\n",
       "       'stranger', 'street', 'struggl', 'student', 'success', 'suffer',\n",
       "       'superhero', 'surviv', 'survivor', 'suspect', 'sweden', 'swedish',\n",
       "       'taikawait', 'taken', 'tale', 'talent', 'tamil', 'task',\n",
       "       'taylorsheridan', 'teacher', 'team', 'tedelliott', 'teenag',\n",
       "       'televis', 'tell', 'termin', 'terrencemalick', 'terror',\n",
       "       'terrygilliam', 'terryrossio', 'texa', 'themselv', 'thi', 'thief',\n",
       "       'thing', 'threat', 'threaten', 'thriller', 'throne', 'tim',\n",
       "       'timburton', 'time', 'togeth', 'told', 'tommccarthi', 'tommmoor',\n",
       "       'torn', 'tour', 'town', 'toy', 'track', 'trail', 'train', 'tramp',\n",
       "       'trap', 'travel', 'tri', 'trial', 'trip', 'troubl', 'true',\n",
       "       'truth', 'turkey', 'turkish', 'turn', 'tv', 'ukrainian', 'ultim',\n",
       "       'uncov', 'unexpect', 'union', 'uniqu', 'unit', 'unitedkingdom',\n",
       "       'unitedst', 'univers', 'universe', 'unlik', 'urdu', 'use',\n",
       "       'variou', 'veri', 'veteran', 'vietnames', 'villag', 'violenc',\n",
       "       'violence', 'violent', 'visit', 'wa', 'want', 'war', 'warrior',\n",
       "       'way', 'wealthi', 'weapon', 'web', 'wesanderson', 'western',\n",
       "       'westgermani', 'widow', 'wife', 'win', 'wit', 'woman', 'women',\n",
       "       'won1oscar', 'won2oscars', 'won3oscars', 'won4oscars',\n",
       "       'won5oscars', 'won6oscars', 'won7oscars', 'won8oscars',\n",
       "       'woodyallen', 'work', 'worker', 'world', 'wrestler', 'write',\n",
       "       'writer', 'wrong', 'wrongli', 'xhosa', 'year', 'years', 'yiddish',\n",
       "       'york', 'young', 'youth', 'zacksnyd', 'zoyaakhtar', 'zulu'],\n",
       "      dtype=object)"
      ]
     },
     "execution_count": 115,
     "metadata": {},
     "output_type": "execute_result"
    }
   ],
   "source": [
    "cv.get_feature_names_out()"
   ]
  },
  {
   "cell_type": "code",
   "execution_count": 116,
   "id": "b6cb40f2",
   "metadata": {},
   "outputs": [],
   "source": [
    "from sklearn.metrics.pairwise import cosine_similarity"
   ]
  },
  {
   "cell_type": "code",
   "execution_count": 119,
   "id": "32e7d4b6",
   "metadata": {},
   "outputs": [],
   "source": [
    "similarity = cosine_similarity(vectors)"
   ]
  },
  {
   "cell_type": "code",
   "execution_count": 141,
   "id": "699ff067",
   "metadata": {},
   "outputs": [],
   "source": [
    "def recommend(movie):\n",
    "    recommendations = []\n",
    "    movie_index = new_movies[new_movies['imdbID'] == movie].index[0]\n",
    "    distances = similarity[movie_index]\n",
    "    movies_list = sorted(list(enumerate(distances)),reverse=True, key=lambda x:x[1])[1:6]\n",
    "    for i in movies_list:\n",
    "        recommendations.append(new_movies.iloc[i[0]].Title)\n",
    "    return recommendations"
   ]
  },
  {
   "cell_type": "code",
   "execution_count": 148,
   "id": "7934573b",
   "metadata": {},
   "outputs": [
    {
     "name": "stdout",
     "output_type": "stream",
     "text": [
      "['Batman Begins', 'The Dark Knight Rises', 'The Prestige', 'Inception', 'The Count of Monte Cristo']\n"
     ]
    }
   ],
   "source": [
    "print(recommend('tt0468569'))"
   ]
  },
  {
   "cell_type": "code",
   "execution_count": 145,
   "id": "613f30fe",
   "metadata": {},
   "outputs": [],
   "source": [
    "import pickle"
   ]
  },
  {
   "cell_type": "code",
   "execution_count": 149,
   "id": "4546054a",
   "metadata": {},
   "outputs": [],
   "source": [
    "pickle.dump(new_movies.to_dict(), open('movies.pkl','wb'))"
   ]
  },
  {
   "cell_type": "code",
   "execution_count": 150,
   "id": "e69b13ce",
   "metadata": {},
   "outputs": [],
   "source": [
    "pickle.dump(similarity, open('similarity.pkl','wb'))"
   ]
  },
  {
   "cell_type": "code",
   "execution_count": 153,
   "id": "667649e1",
   "metadata": {},
   "outputs": [
    {
     "data": {
      "text/plain": [
       "(873, 3)"
      ]
     },
     "execution_count": 153,
     "metadata": {},
     "output_type": "execute_result"
    }
   ],
   "source": [
    "new_movies.shape"
   ]
  },
  {
   "cell_type": "code",
   "execution_count": null,
   "id": "1702c2be",
   "metadata": {},
   "outputs": [],
   "source": []
  }
 ],
 "metadata": {
  "kernelspec": {
   "display_name": "Python 3 (ipykernel)",
   "language": "python",
   "name": "python3"
  },
  "language_info": {
   "codemirror_mode": {
    "name": "ipython",
    "version": 3
   },
   "file_extension": ".py",
   "mimetype": "text/x-python",
   "name": "python",
   "nbconvert_exporter": "python",
   "pygments_lexer": "ipython3",
   "version": "3.11.5"
  }
 },
 "nbformat": 4,
 "nbformat_minor": 5
}
